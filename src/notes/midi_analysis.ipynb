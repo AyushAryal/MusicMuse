{
 "cells": [
  {
   "cell_type": "markdown",
   "id": "95622da9-87da-4947-83f8-ccf8acbf54ca",
   "metadata": {},
   "source": [
    "## import sys\n",
    "import enum\n",
    "from dataclasses import dataclass\n",
    "from pathlib import Path\n",
    "\n",
    "import mido\n",
    "\n",
    "AVAILABLE_SONGS = [\n",
    "    Path(\"../../res/adl-piano-midi/World/Canadian Pop/Avril Lavigne/Complicated.mid\"),\n",
    "    Path(\"../../res/adl-piano-midi/Pop/Dance Pop/Lady Gaga/Bad Romance.mid\"),\n",
    "]\n",
    "\n",
    "sys.path.append(\"..\")\n",
    "from melolib.midi import parse_midi\n",
    "from melolib.notation import generate_score_from_parsed_midi\n",
    "\n",
    "parsed_midis = [parse_midi(path) for path in AVAILABLE_SONGS]\n",
    "scores = [generate_score_from_parsed_midi(parsed) for parsed in parsed_midis]\n",
    "scores[0]\n",
    "# parsed_midis[0]"
   ]
  }
 ],
 "metadata": {
  "kernelspec": {
   "display_name": "Python 3 (ipykernel)",
   "language": "python",
   "name": "python3"
  },
  "language_info": {
   "codemirror_mode": {
    "name": "ipython",
    "version": 3
   },
   "file_extension": ".py",
   "mimetype": "text/x-python",
   "name": "python",
   "nbconvert_exporter": "python",
   "pygments_lexer": "ipython3",
   "version": "3.11.7"
  }
 },
 "nbformat": 4,
 "nbformat_minor": 5
}
