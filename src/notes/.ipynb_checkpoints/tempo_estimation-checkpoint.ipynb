{
 "cells": [
  {
   "cell_type": "code",
   "execution_count": null,
   "metadata": {},
   "outputs": [],
   "source": [
    "import glob\n",
    "\n",
    "import librosa\n",
    "\n",
    "\n",
    "class Audio:\n",
    "    def __init__(self, path):\n",
    "        self.path = path\n",
    "\n",
    "    def beat_tempo_data(self):\n",
    "        y, sr = librosa.load(self.path, offset=20, duration=20)\n",
    "        temp, beat_frames = librosa.beat.beat_track(y=y, sr=sr)\n",
    "        beat_times = librosa.frames_to_time(beat_frames, sr=sr)\n",
    "        return (temp, beat_times)\n",
    "\n",
    "\n",
    "def calculate_differences(array):\n",
    "    differences = []\n",
    "    for i in range(1, len(array)):\n",
    "        difference = array[i] - array[i - 1]\n",
    "        differences.append(difference)\n",
    "    return differences\n",
    "\n",
    "\n",
    "def estimate_tempo(audio_path):\n",
    "    tempo, _ = Audio(audio_path).beat_tempo_data()\n",
    "    return tempo\n",
    "\n",
    "\n",
    "def main():\n",
    "    for f in glob.glob(\"../../res/wav/*.wav\")[:10]:\n",
    "        tempo = estimate_tempo(f)\n",
    "        print(f\"{tempo:06.2f} {f}\")\n",
    "\n",
    "\n",
    "if __name__ == \"__main__\":\n",
    "    main()\n"
   ]
  }
 ],
 "metadata": {
  "kernelspec": {
   "display_name": "Python 3 (ipykernel)",
   "language": "python",
   "name": "python3"
  },
  "language_info": {
   "codemirror_mode": {
    "name": "ipython",
    "version": 3
   },
   "file_extension": ".py",
   "mimetype": "text/x-python",
   "name": "python",
   "nbconvert_exporter": "python",
   "pygments_lexer": "ipython3",
   "version": "3.11.6"
  }
 },
 "nbformat": 4,
 "nbformat_minor": 4
}
