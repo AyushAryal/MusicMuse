{
 "cells": [
  {
   "cell_type": "code",
   "execution_count": 1,
   "id": "163c0c7f-89f7-4a15-b159-c95288aa25bf",
   "metadata": {},
   "outputs": [
    {
     "ename": "FileNotFoundError",
     "evalue": "[Errno 2] No such file or directory: '../res/adl-piano-midi/World/Canadian Pop/Avril Lavigne/Complicated.mid'",
     "output_type": "error",
     "traceback": [
      "\u001b[0;31m---------------------------------------------------------------------------\u001b[0m",
      "\u001b[0;31mFileNotFoundError\u001b[0m                         Traceback (most recent call last)",
      "Cell \u001b[0;32mIn[1], line 17\u001b[0m\n\u001b[1;32m     14\u001b[0m \u001b[38;5;28;01mfrom\u001b[39;00m \u001b[38;5;21;01mmelolib\u001b[39;00m\u001b[38;5;21;01m.\u001b[39;00m\u001b[38;5;21;01mmidi\u001b[39;00m \u001b[38;5;28;01mimport\u001b[39;00m parse_midi\n\u001b[1;32m     15\u001b[0m \u001b[38;5;28;01mfrom\u001b[39;00m \u001b[38;5;21;01mmelolib\u001b[39;00m\u001b[38;5;21;01m.\u001b[39;00m\u001b[38;5;21;01mnotation\u001b[39;00m \u001b[38;5;28;01mimport\u001b[39;00m generate_score_from_parsed_midi\n\u001b[0;32m---> 17\u001b[0m parsed_midis \u001b[38;5;241m=\u001b[39m \u001b[43m[\u001b[49m\u001b[43mparse_midi\u001b[49m\u001b[43m(\u001b[49m\u001b[43mpath\u001b[49m\u001b[43m)\u001b[49m\u001b[43m \u001b[49m\u001b[38;5;28;43;01mfor\u001b[39;49;00m\u001b[43m \u001b[49m\u001b[43mpath\u001b[49m\u001b[43m \u001b[49m\u001b[38;5;129;43;01min\u001b[39;49;00m\u001b[43m \u001b[49m\u001b[43mAVAILABLE_SONGS\u001b[49m\u001b[43m]\u001b[49m\n\u001b[1;32m     18\u001b[0m scores \u001b[38;5;241m=\u001b[39m [generate_score_from_parsed_midi(parsed) \u001b[38;5;28;01mfor\u001b[39;00m parsed \u001b[38;5;129;01min\u001b[39;00m parsed_midis]\n\u001b[1;32m     19\u001b[0m scores[\u001b[38;5;241m0\u001b[39m]\n",
      "Cell \u001b[0;32mIn[1], line 17\u001b[0m, in \u001b[0;36m<listcomp>\u001b[0;34m(.0)\u001b[0m\n\u001b[1;32m     14\u001b[0m \u001b[38;5;28;01mfrom\u001b[39;00m \u001b[38;5;21;01mmelolib\u001b[39;00m\u001b[38;5;21;01m.\u001b[39;00m\u001b[38;5;21;01mmidi\u001b[39;00m \u001b[38;5;28;01mimport\u001b[39;00m parse_midi\n\u001b[1;32m     15\u001b[0m \u001b[38;5;28;01mfrom\u001b[39;00m \u001b[38;5;21;01mmelolib\u001b[39;00m\u001b[38;5;21;01m.\u001b[39;00m\u001b[38;5;21;01mnotation\u001b[39;00m \u001b[38;5;28;01mimport\u001b[39;00m generate_score_from_parsed_midi\n\u001b[0;32m---> 17\u001b[0m parsed_midis \u001b[38;5;241m=\u001b[39m [\u001b[43mparse_midi\u001b[49m\u001b[43m(\u001b[49m\u001b[43mpath\u001b[49m\u001b[43m)\u001b[49m \u001b[38;5;28;01mfor\u001b[39;00m path \u001b[38;5;129;01min\u001b[39;00m AVAILABLE_SONGS]\n\u001b[1;32m     18\u001b[0m scores \u001b[38;5;241m=\u001b[39m [generate_score_from_parsed_midi(parsed) \u001b[38;5;28;01mfor\u001b[39;00m parsed \u001b[38;5;129;01min\u001b[39;00m parsed_midis]\n\u001b[1;32m     19\u001b[0m scores[\u001b[38;5;241m0\u001b[39m]\n",
      "File \u001b[0;32m~/Documents/dev/melowave/src/notes/../melolib/midi.py:5\u001b[0m, in \u001b[0;36mparse_midi\u001b[0;34m(midi_file_path)\u001b[0m\n\u001b[1;32m      4\u001b[0m \u001b[38;5;28;01mdef\u001b[39;00m \u001b[38;5;21mparse_midi\u001b[39m(midi_file_path):\n\u001b[0;32m----> 5\u001b[0m     midi \u001b[38;5;241m=\u001b[39m \u001b[43mmido\u001b[49m\u001b[38;5;241;43m.\u001b[39;49m\u001b[43mMidiFile\u001b[49m\u001b[43m(\u001b[49m\u001b[43mmidi_file_path\u001b[49m\u001b[43m)\u001b[49m\n\u001b[1;32m      6\u001b[0m     ticks_per_beat \u001b[38;5;241m=\u001b[39m midi\u001b[38;5;241m.\u001b[39mticks_per_beat\n\u001b[1;32m      8\u001b[0m     track_list \u001b[38;5;241m=\u001b[39m []\n",
      "File \u001b[0;32m~/.cache/pypoetry/virtualenvs/melowave-7lecoToH-py3.11/lib/python3.11/site-packages/mido/midifiles/midifiles.py:319\u001b[0m, in \u001b[0;36mMidiFile.__init__\u001b[0;34m(self, filename, file, type, ticks_per_beat, charset, debug, clip, tracks)\u001b[0m\n\u001b[1;32m    317\u001b[0m     \u001b[38;5;28mself\u001b[39m\u001b[38;5;241m.\u001b[39m_load(file)\n\u001b[1;32m    318\u001b[0m \u001b[38;5;28;01melif\u001b[39;00m \u001b[38;5;28mself\u001b[39m\u001b[38;5;241m.\u001b[39mfilename \u001b[38;5;129;01mis\u001b[39;00m \u001b[38;5;129;01mnot\u001b[39;00m \u001b[38;5;28;01mNone\u001b[39;00m:\n\u001b[0;32m--> 319\u001b[0m     \u001b[38;5;28;01mwith\u001b[39;00m \u001b[38;5;28;43mopen\u001b[39;49m\u001b[43m(\u001b[49m\u001b[43mfilename\u001b[49m\u001b[43m,\u001b[49m\u001b[43m \u001b[49m\u001b[38;5;124;43m'\u001b[39;49m\u001b[38;5;124;43mrb\u001b[39;49m\u001b[38;5;124;43m'\u001b[39;49m\u001b[43m)\u001b[49m \u001b[38;5;28;01mas\u001b[39;00m file:\n\u001b[1;32m    320\u001b[0m         \u001b[38;5;28mself\u001b[39m\u001b[38;5;241m.\u001b[39m_load(file)\n",
      "\u001b[0;31mFileNotFoundError\u001b[0m: [Errno 2] No such file or directory: '../res/adl-piano-midi/World/Canadian Pop/Avril Lavigne/Complicated.mid'"
     ]
    }
   ],
   "source": [
    "import sys\n",
    "import enum\n",
    "from dataclasses import dataclass\n",
    "from pathlib import Path\n",
    "\n",
    "import mido\n",
    "\n",
    "AVAILABLE_SONGS = [\n",
    "    Path(\"../../res/adl-piano-midi/World/Canadian Pop/Avril Lavigne/Complicated.mid\"),\n",
    "    Path(\"../../res/adl-piano-midi/Pop/Dance Pop/Lady Gaga/Bad Romance.mid\"),\n",
    "]\n",
    "\n",
    "sys.path.append(\"..\")\n",
    "from melolib.midi import parse_midi\n",
    "from melolib.notation import generate_score_from_parsed_midi\n",
    "\n",
    "parsed_midis = [parse_midi(path) for path in AVAILABLE_SONGS]\n",
    "scores = [generate_score_from_parsed_midi(parsed) for parsed in parsed_midis]\n",
    "scores[0]"
   ]
  },
  {
   "cell_type": "code",
   "execution_count": null,
   "id": "6e60a7bc-d62e-4f92-9427-8b10b8fd380e",
   "metadata": {},
   "outputs": [],
   "source": []
  }
 ],
 "metadata": {
  "kernelspec": {
   "display_name": "Python 3 (ipykernel)",
   "language": "python",
   "name": "python3"
  },
  "language_info": {
   "codemirror_mode": {
    "name": "ipython",
    "version": 3
   },
   "file_extension": ".py",
   "mimetype": "text/x-python",
   "name": "python",
   "nbconvert_exporter": "python",
   "pygments_lexer": "ipython3",
   "version": "3.11.6"
  }
 },
 "nbformat": 4,
 "nbformat_minor": 5
}
