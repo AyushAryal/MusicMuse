{
 "cells": [
  {
   "cell_type": "code",
   "execution_count": null,
   "id": "f82026ed-4d38-4319-af66-4034975a3e8a",
   "metadata": {},
   "outputs": [],
   "source": [
    "import sys\n",
    "import glob\n",
    "\n",
    "sys.path.append(\"..\")\n",
    "from melolib.midi import parse_midi\n",
    "from melolib.notation import generate_score_from_parsed_midi\n",
    "\n",
    "generate_score = lambda x: clean_score(generate_score_from_parsed_midi(parse_midi(x)))\n",
    "\n",
    "def clean_score(score):\n",
    "    for part in score:\n",
    "        part[\"data\"] = [\n",
    "            {\n",
    "                \"key\": info[\"notation\"][\"keys\"][0],\n",
    "                \"duration\": info[\"notation\"][\"duration\"]\n",
    "            } for info in part[\"data\"]\n",
    "        ]\n",
    "    return score\n",
    "\n",
    "\n",
    "\n",
    "base_path = \"../../res/adl-piano-midi/Pop/Dance Pop\"\n",
    "# base_path = \"../../res/midi\"\n",
    "files = [midi_file for midi_file in  glob.glob(base_path + \"/**/*.mid\", recursive=True)][:500]\n",
    "scores = [(file, generate_score_from_parsed_midi(parse_midi(file))) for file in files]\n",
    "for file, score in scores:\n",
    "    for track in score:\n",
    "        print(file, track[\"name\"], track[\"key_signature\"])\n",
    "\n",
    "# generate_score(files[0])\n",
    "\n",
    "# for i, midi_file in enumerate(files):\n",
    "#     try:\n",
    "#         generate_score(midi_file)\n",
    "#     except:\n",
    "#         ..."
   ]
  },
  {
   "cell_type": "code",
   "execution_count": null,
   "id": "4e165e1c-5b2d-4f04-a17a-31b1b6bed355",
   "metadata": {},
   "outputs": [],
   "source": []
  }
 ],
 "metadata": {
  "kernelspec": {
   "display_name": "Python 3 (ipykernel)",
   "language": "python",
   "name": "python3"
  },
  "language_info": {
   "codemirror_mode": {
    "name": "ipython",
    "version": 3
   },
   "file_extension": ".py",
   "mimetype": "text/x-python",
   "name": "python",
   "nbconvert_exporter": "python",
   "pygments_lexer": "ipython3",
   "version": "3.11.6"
  }
 },
 "nbformat": 4,
 "nbformat_minor": 5
}
