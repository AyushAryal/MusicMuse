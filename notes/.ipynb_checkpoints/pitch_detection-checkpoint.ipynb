{
 "cells": [
  {
   "cell_type": "markdown",
   "metadata": {},
   "source": [
    "\n",
    "\n",
    "## Pitch Detection using Autocorrelation\n",
    "\n",
    "There are several methods that can be used for pitch detection.\n",
    "AMDF, ASMDF, YIN algorithm, MPM algorithm, Harmonic product spectrum, Cepstral analysis, and Autocorrelation are some popular approaches. More recently, machine learning has also been employed for this.\n",
    "\n",
    "For our project we chose to use pYIN since it strikes a perfect balance between complexity and accuracy."
   ]
  },
  {
   "cell_type": "code",
   "execution_count": null,
   "metadata": {},
   "outputs": [],
   "source": [
    "import numpy as np\n",
    "import librosa\n",
    "import matplotlib.pyplot as plt\n",
    "\n",
    "track_path = \"../res/untitled.wav\"\n",
    "track_data, sample_rate = librosa.load(track_path)\n",
    "\n",
    "# Normalize the audio data\n",
    "track_data = track_data.astype(np.float32) / np.max(np.abs(track_data))\n",
    "\n",
    "# Create the time axis for the waveform plot\n",
    "duration = len(track_data) / sample_rate\n",
    "time_data = np.linspace(0.0, duration, len(track_data))\n",
    "\n",
    "\n",
    "def crop_track(start, end, time_data, track_data, sample_rate):\n",
    "    duration = len(time_data) / sample_rate\n",
    "    if start < 0 or start > end or start > duration or end > duration:\n",
    "        raise RuntimeError(\"Start/end should be in range\")\n",
    "    start_idx = int(start * sample_rate)\n",
    "    end_idx = int(end * sample_rate)\n",
    "    return (\n",
    "        time_data[start_idx:end_idx],\n",
    "        track_data[start_idx:end_idx],\n",
    "    )\n",
    "\n",
    "\n",
    "# Plot the time domain signal\n",
    "plt.figure(figsize=(10, 4))\n",
    "x_data, y_data = crop_track(0, duration, time_data, track_data, sample_rate)\n",
    "plt.plot(x_data, y_data, color=\"b\")\n",
    "plt.xlabel(\"Time (s)\")\n",
    "plt.ylabel(\"Amplitude\")\n",
    "plt.title(\"Time domain signal\")\n",
    "plt.grid(True)\n",
    "plt.show()"
   ]
  },
  {
   "cell_type": "code",
   "execution_count": null,
   "metadata": {},
   "outputs": [],
   "source": [
    "\n",
    "# Plot a small section of the time domain signal\n",
    "plt.figure(figsize=(10, 4))\n",
    "x_data, y_data = crop_track(0, 0.1, time_data, track_data, sample_rate)\n",
    "plt.plot(x_data, y_data, color=\"b\")\n",
    "plt.xlabel(\"Time (s)\")\n",
    "plt.ylabel(\"Amplitude\")\n",
    "plt.title(\"Time domain signal (zoomed)\")\n",
    "plt.grid(True)\n",
    "plt.show()"
   ]
  },
  {
   "cell_type": "code",
   "execution_count": null,
   "metadata": {},
   "outputs": [],
   "source": [
    "f0, voiced_flag, voiced_probs = librosa.pyin(track_data,\n",
    "                                             fmin=librosa.note_to_hz('C2'),\n",
    "                                             fmax=librosa.note_to_hz('C7'),\n",
    "                                             sr=sample_rate)"
   ]
  },
  {
   "cell_type": "code",
   "execution_count": null,
   "metadata": {},
   "outputs": [],
   "source": [
    "\n",
    "times = librosa.times_like(f0)\n",
    "spectrogram_data = librosa.amplitude_to_db(np.abs(librosa.stft(track_data)), ref=np.max)\n",
    "\n",
    "fig, (ax2, ax) = plt.subplots(1, 2, figsize=(10, 4), layout=\"constrained\")\n",
    "\n",
    "img = librosa.display.specshow(spectrogram_data, x_axis='time', y_axis='log', ax=ax)\n",
    "img2 = librosa.display.specshow(spectrogram_data, x_axis='time', y_axis='log', ax=ax2)\n",
    "\n",
    "ax.set(title='freq estimation')\n",
    "ax2.set(title='spectogram')\n",
    "\n",
    "fig.colorbar(img, ax=ax, format=\"%+2.f dB\")\n",
    "fig.colorbar(img2, ax=ax2, format=\"%+2.f dB\")\n",
    "\n",
    "ax.plot(times, f0, label='f0', color='lime', linewidth=2)\n",
    "\n",
    "ax.legend(loc='upper right')\n",
    "ax2.legend(loc='upper right')"
   ]
  },
  {
   "cell_type": "code",
   "execution_count": null,
   "metadata": {},
   "outputs": [],
   "source": [
    "import musicalbeeps\n",
    "\n",
    "player = musicalbeeps.Player(volume = 1.0,\n",
    "                            mute_output = False)\n",
    "dt = times[1] - times[0]\n",
    "\n",
    "for i, f in enumerate(f0):\n",
    "    if f > 0:\n",
    "        player.play_note(librosa.hz_to_note(f*4), dt)\n",
    "    else:\n",
    "        ...\n",
    "        player.play_note(\"pause\", dt)"
   ]
  }
 ],
 "metadata": {
  "kernelspec": {
   "display_name": "Python 3 (ipykernel)",
   "language": "python",
   "name": "python3"
  },
  "language_info": {
   "codemirror_mode": {
    "name": "ipython",
    "version": 3
   },
   "file_extension": ".py",
   "mimetype": "text/x-python",
   "name": "python",
   "nbconvert_exporter": "python",
   "pygments_lexer": "ipython3",
   "version": "3.11.6"
  }
 },
 "nbformat": 4,
 "nbformat_minor": 4
}
