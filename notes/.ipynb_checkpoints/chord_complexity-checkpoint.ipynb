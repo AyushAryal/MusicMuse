{
 "cells": [
  {
   "cell_type": "code",
   "execution_count": null,
   "id": "0cf299a3-48f3-4e69-ba18-6045c519bca2",
   "metadata": {},
   "outputs": [],
   "source": [
    "import json\n",
    "import numpy as np\n",
    "import matplotlib.pyplot as plt\n",
    "import statistics"
   ]
  },
  {
   "cell_type": "code",
   "execution_count": null,
   "id": "4c675b1b-3ea0-4f05-8162-b0af95779484",
   "metadata": {},
   "outputs": [],
   "source": [
    "CHORD_PROGRESSIONS_JSON = \"../out/chord_progressions.json\"\n",
    "\n",
    "with open(CHORD_PROGRESSIONS_JSON) as f:\n",
    "    songs = json.load(f)\n",
    "    assert isinstance(songs, list)\n",
    "\n",
    "songs = [song for song in songs if len(song) > 8]"
   ]
  },
  {
   "cell_type": "code",
   "execution_count": null,
   "id": "6342be0c-6db4-4193-9f8d-56adeeae35b0",
   "metadata": {},
   "outputs": [],
   "source": [
    "from chord_parser import chord_parser_raw\n",
    "\n",
    "def count_variants(songs):\n",
    "    variants_count = {}\n",
    "    for song in songs:\n",
    "        for chord in song:\n",
    "            _, variant = chord_parser_raw(chord)\n",
    "            variants_count[variant] = variants_count.setdefault(variant, 0) + 1\n",
    "    return variants_count\n",
    "\n",
    "chord_variants = count_variants(songs)\n",
    "total_chords = sum(chord_variants.values())\n",
    "chord_variant_probabilities = {chord: count / total_chords for chord, count in chord_variants.items()}\n",
    "\n",
    "chord_variant_probabilities"
   ]
  },
  {
   "cell_type": "code",
   "execution_count": null,
   "id": "f3107bbd-d93d-43af-b191-9aeac51f4d93",
   "metadata": {},
   "outputs": [],
   "source": [
    "chord_names = list(chord_variants.keys())\n",
    "chord_counts = list(chord_variants.values())\n",
    "\n",
    "fig, (ax1, ax2) = plt.subplots(1, 2, figsize=(14, 6), constrained_layout=True)\n",
    "\n",
    "ax1.barh(chord_names, chord_counts, color='skyblue')\n",
    "ax1.set_xlabel('Count')\n",
    "ax1.set_ylabel('Chord Type')\n",
    "ax1.set_title('Count of Chord Types (Log)')\n",
    "ax1.set_xscale('log')\n",
    "\n",
    "ax2.pie(chord_variant_probabilities.values(), labels=chord_variant_probabilities.keys(), autopct='%1.1f%%', startangle=140)\n",
    "ax2.set_title('Probability of chord types')\n",
    "\n",
    "plt.show()"
   ]
  },
  {
   "cell_type": "code",
   "execution_count": null,
   "id": "6e5877c6-12db-4a67-9582-1be2c7b1e996",
   "metadata": {},
   "outputs": [],
   "source": [
    "def measure_complexity(song):\n",
    "    # 1. variance of chord_complexity\n",
    "    # 2. average chord_complexity\n",
    "    # 3. entropy of root notes\n",
    "\n",
    "    song_complexity = []\n",
    "    root_note_counts = {}\n",
    "    for chord in song:\n",
    "        root, variant = chord_parser_raw(chord)\n",
    "        song_complexity.append(chord_variant_probabilities[variant])\n",
    "        root_note_counts[root] = root_note_counts.get(root, 0) + 1\n",
    "\n",
    "    counts = np.array(list(root_note_counts.values()))\n",
    "    probabilities = counts / np.sum(counts)\n",
    "    entropy = -np.sum(probabilities * np.log2(probabilities))\n",
    "    average_chord_complexity = statistics.mean(song_complexity)\n",
    "    variance_of_chord_complexity = statistics.variance(song_complexity)\n",
    "    return variance_of_chord_complexity, average_chord_complexity, entropy\n",
    "\n",
    "song_complexities = list(map(measure_complexity, songs))"
   ]
  },
  {
   "cell_type": "code",
   "execution_count": null,
   "id": "59902c68-3200-41c0-adfb-5e055ba83c7f",
   "metadata": {},
   "outputs": [],
   "source": [
    "def describe(label, data):\n",
    "    mean = statistics.mean(data)\n",
    "    median = statistics.median(data)\n",
    "    mode = statistics.mode(data)\n",
    "    std_dev = statistics.stdev(data)\n",
    "    variance = statistics.variance(data)\n",
    "    minimum = min(data)\n",
    "    maximum = max(data)\n",
    "\n",
    "    print(label)\n",
    "    print(\"Mean:\", mean)\n",
    "    print(\"Median:\", median)\n",
    "    print(\"Mode:\", mode)\n",
    "    print(\"Standard Deviation:\", std_dev)\n",
    "    print(\"Variance:\", variance)\n",
    "    print(\"Minimum:\", minimum)\n",
    "    print(\"Maximum:\", maximum)\n",
    "    print()\n",
    "\n",
    "variances, means, entropies = zip(*song_complexities)\n",
    "\n",
    "describe(\"Variance of chord complexity\", variances)\n",
    "describe(\"Mean of chord complexity\", means)\n",
    "describe(\"Entropy of root notes\", entropies)"
   ]
  },
  {
   "cell_type": "code",
   "execution_count": null,
   "id": "414bc32f-6675-4931-a385-bb800d747982",
   "metadata": {},
   "outputs": [],
   "source": [
    "augmented_dataset = list(zip(song_complexities, songs))\n",
    "\n",
    "with open(\"../out/chord_progressions_augmented.json\", \"w\") as f:\n",
    "    json.dump(augmented_dataset, f)"
   ]
  },
  {
   "cell_type": "code",
   "execution_count": null,
   "id": "c56a7ce1-e931-489b-b562-72bf1702f6f9",
   "metadata": {},
   "outputs": [],
   "source": []
  }
 ],
 "metadata": {
  "kernelspec": {
   "display_name": "Python 3 (ipykernel)",
   "language": "python",
   "name": "python3"
  },
  "language_info": {
   "codemirror_mode": {
    "name": "ipython",
    "version": 3
   },
   "file_extension": ".py",
   "mimetype": "text/x-python",
   "name": "python",
   "nbconvert_exporter": "python",
   "pygments_lexer": "ipython3",
   "version": "3.11.6"
  }
 },
 "nbformat": 4,
 "nbformat_minor": 5
}
