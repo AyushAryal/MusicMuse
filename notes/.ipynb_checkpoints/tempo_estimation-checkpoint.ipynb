{
 "cells": [
  {
   "cell_type": "code",
   "execution_count": 2,
   "metadata": {},
   "outputs": [
    {
     "name": "stdout",
     "output_type": "stream",
     "text": [
      "215.33 ../res/others/Taylor Swift ft. Lana del Rey - Snow On The Beach.wav\n",
      "107.67 ../res/others/Cry_Wolf_-_Bebe_Rexha.wav\n",
      "095.70 ../res/others/Californication_-_Red_Hot_Chili_Peppers.wav\n",
      "107.67 ../res/others/Castle_of_Glass_-_Linkin_Park.wav\n",
      "103.36 ../res/others/Wake_Me_Up_When_September_Ends_-_Green_Day.wav\n",
      "095.70 ../res/others/Charlie Puth - Charlie Be Quiet!.wav\n",
      "099.38 ../res/others/Cheerleader_-_OMI.wav\n",
      "103.36 ../res/others/Snow_(Hey_Oh)_-_Red_Hot_Chili_Peppers.wav\n",
      "092.29 ../res/others/Love_yourself_-_Justin_Bieber.wav\n",
      "152.00 ../res/others/One_And_Only_-_Adele.wav\n"
     ]
    }
   ],
   "source": [
    "import glob\n",
    "\n",
    "import librosa\n",
    "\n",
    "\n",
    "class Audio:\n",
    "    def __init__(self, path):\n",
    "        self.path = path\n",
    "\n",
    "    def beat_tempo_data(self):\n",
    "        y, sr = librosa.load(self.path, offset=20, duration=20)\n",
    "        temp, beat_frames = librosa.beat.beat_track(y=y, sr=sr)\n",
    "        beat_times = librosa.frames_to_time(beat_frames, sr=sr)\n",
    "        return (temp, beat_times)\n",
    "\n",
    "\n",
    "def calculate_differences(array):\n",
    "    differences = []\n",
    "    for i in range(1, len(array)):\n",
    "        difference = array[i] - array[i - 1]\n",
    "        differences.append(difference)\n",
    "    return differences\n",
    "\n",
    "\n",
    "def estimate_tempo(audio_path):\n",
    "    tempo, _ = Audio(audio_path).beat_tempo_data()\n",
    "    return tempo\n",
    "\n",
    "\n",
    "def main():\n",
    "    for f in glob.glob(\"../res/others/*.wav\")[:10]:\n",
    "        tempo = estimate_tempo(f)\n",
    "        print(f\"{tempo:06.2f} {f}\")\n",
    "\n",
    "\n",
    "if __name__ == \"__main__\":\n",
    "    main()\n"
   ]
  }
 ],
 "metadata": {
  "kernelspec": {
   "display_name": "major-PAspA-pd-py3.11",
   "language": "python",
   "name": "python3"
  },
  "language_info": {
   "codemirror_mode": {
    "name": "ipython",
    "version": 3
   },
   "file_extension": ".py",
   "mimetype": "text/x-python",
   "name": "python",
   "nbconvert_exporter": "python",
   "pygments_lexer": "ipython3",
   "version": "3.11.6"
  },
  "orig_nbformat": 4
 },
 "nbformat": 4,
 "nbformat_minor": 2
}
